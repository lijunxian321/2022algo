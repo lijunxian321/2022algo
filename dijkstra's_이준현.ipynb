{
  "nbformat": 4,
  "nbformat_minor": 0,
  "metadata": {
    "colab": {
      "provenance": [],
      "authorship_tag": "ABX9TyMNJDBSUXdNPi2AjpT7voF1",
      "include_colab_link": true
    },
    "kernelspec": {
      "name": "python3",
      "display_name": "Python 3"
    },
    "language_info": {
      "name": "python"
    }
  },
  "cells": [
    {
      "cell_type": "markdown",
      "metadata": {
        "id": "view-in-github",
        "colab_type": "text"
      },
      "source": [
        "<a href=\"https://colab.research.google.com/github/lijunxian321/2022algo/blob/main/dijkstra's_%EC%9D%B4%EC%A4%80%ED%98%84.ipynb\" target=\"_parent\"><img src=\"https://colab.research.google.com/assets/colab-badge.svg\" alt=\"Open In Colab\"/></a>"
      ]
    },
    {
      "cell_type": "code",
      "execution_count": 43,
      "metadata": {
        "id": "H5Csc4YYm93y",
        "colab": {
          "base_uri": "https://localhost:8080/"
        },
        "outputId": "14179f16-c0ec-4633-e74e-13437618f00b"
      },
      "outputs": [
        {
          "output_type": "stream",
          "name": "stdout",
          "text": [
            "0\n",
            "8\n",
            "5\n",
            "9\n",
            "7\n"
          ]
        }
      ],
      "source": [
        "class Graph:\n",
        "    def __init__(self):\n",
        "        self.V = []\n",
        "        self.w = {}\n",
        "\n",
        "class Vertex:\n",
        "    def __init__(self, x):\n",
        "        self.key = x\n",
        "        self.color = 'white'\n",
        "        self.d = 10000\n",
        "        self.pi = None\n",
        "        self.adj = []\n",
        "\n",
        "class Solution():\n",
        "    def InitializeSingleSource(self, G, s):\n",
        "        for v in G.V:\n",
        "            v.d = 10000\n",
        "            v.pi = None\n",
        "        s.d = 0\n",
        "\n",
        "    def Relax(self, u, v, w):\n",
        "        if v.d > u.d + w[(u, v)]:\n",
        "            v.d = u.d + w[(u, v)]\n",
        "            v.pi = u\n",
        "\n",
        "    def Dijkstra(self, G, w, s):\n",
        "        self.InitializeSingleSource(G, s)\n",
        "        S = set()\n",
        "        Q = G.V[:]\n",
        "        while Q != []:\n",
        "            u = self.ExtractMin(Q, S)\n",
        "            S.add(u)\n",
        "            for v in u.adj:\n",
        "                self.Relax(u, v, w)\n",
        "\n",
        "    def ExtractMin(self, Q, S):\n",
        "        Q.sort(key=lambda v: v.d)\n",
        "        return Q.pop(0)\n",
        "\n",
        "\n",
        "\n",
        "\n",
        "\n",
        "    s = Vertex('s')\n",
        "    t = Vertex('t')\n",
        "    y = Vertex('y')\n",
        "    x = Vertex('x')\n",
        "    z = Vertex('z')\n",
        "\n",
        "    s.adj = [t, y]\n",
        "    y.adj = [t, z, x]\n",
        "    t.adj = [x, y]\n",
        "    x.adj = [z]\n",
        "    z.adj = [x, s]\n",
        "\n",
        "    G = Graph()\n",
        "    G.V = [s, t, y, x, z]\n",
        "    G.w = {\n",
        "        (s,t):10,\n",
        "        (s,y):5,\n",
        "        (t,y):2,\n",
        "        (y,t):3,\n",
        "        (t,x):1,\n",
        "        (y,z):2,\n",
        "        (x,z):4,\n",
        "        (z,x):6,\n",
        "        (y,x):9,\n",
        "        (z,s):7\n",
        "    }\n",
        "\n",
        "    m = Solution()\n",
        "    m.Dijkstra(G, G.w, s)\n",
        "\n",
        "\n",
        "    for v in G.V:\n",
        "            print(v.d)\n"
      ]
    },
    {
      "cell_type": "code",
      "source": [
        "a = input().split(',')\n",
        "G = Graph()\n",
        "for i in a:\n",
        "  i = Vertex(i)\n",
        "  G.V += [i]\n",
        "n = input()\n"
      ],
      "metadata": {
        "id": "oRV6AwBtWz_e",
        "outputId": "4fe5fdd9-a2ea-4e51-fad9-69b9001e1aa2",
        "colab": {
          "base_uri": "https://localhost:8080/"
        }
      },
      "execution_count": 27,
      "outputs": [
        {
          "output_type": "stream",
          "name": "stdout",
          "text": [
            "a,b,c,d,e\n",
            "[<__main__.Vertex object at 0x7fbc5d397990>, <__main__.Vertex object at 0x7fbc63e0ded0>, <__main__.Vertex object at 0x7fbc656d0710>, <__main__.Vertex object at 0x7fbc6bd6aad0>, <__main__.Vertex object at 0x7fbc63bd1750>]\n"
          ]
        }
      ]
    },
    {
      "cell_type": "code",
      "source": [
        "n = int(input())\n",
        "for i in range(n):\n",
        "  a = input().split(',')\n",
        "  G.w[(a[0],a[1])] = a[2]\n",
        "print(G.w)\n"
      ],
      "metadata": {
        "id": "vwWz-dhpTXCr",
        "outputId": "d05e297d-2775-4d12-b6f1-e250fdea527b",
        "colab": {
          "base_uri": "https://localhost:8080/"
        }
      },
      "execution_count": 38,
      "outputs": [
        {
          "output_type": "stream",
          "name": "stdout",
          "text": [
            "2\n",
            "a,b,10\n",
            "a,c,5\n",
            "{('a', 'b'): '10', ('a', 'c'): '5'}\n"
          ]
        }
      ]
    },
    {
      "cell_type": "code",
      "source": [
        "for (a , b) in G.w.keys():\n",
        "  "
      ],
      "metadata": {
        "id": "2voOIPBoVOA6",
        "outputId": "06dfbb4e-55c8-4bc7-8e54-16a33cd5f2f1",
        "colab": {
          "base_uri": "https://localhost:8080/"
        }
      },
      "execution_count": 39,
      "outputs": [
        {
          "output_type": "stream",
          "name": "stdout",
          "text": [
            "a\n",
            "a\n"
          ]
        }
      ]
    }
  ]
}